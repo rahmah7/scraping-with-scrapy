pip install scrapy
scrapy startproject myproject
myproject/
    scrapy.cfg
    myproject/
        __init__.py
        items.py
        middlewares.py
        pipelines.py
        settings.py
        spiders/
            __init__.py
import scrapy

class ExampleSpider(scrapy.Spider):
    name = "example"  # Name of the spider
    start_urls = ['https://quotes.toscrape.com']  # URL to start scraping from

    def parse(self, response):
        # Extract quotes and authors
        quotes = response.css('div.quote')
        
        for quote in quotes:
            yield {
                'text': quote.css('span.text::text').get(),  # Extract text of the quote
                'author': quote.css('span small::text').get(),  # Extract author of the quote
                'tags': quote.css('div.tags a.tag::text').getall()  # Extract tags
            }

        # Follow pagination links
        next_page = response.css('li.next a::attr(href)').get()
        if next_page:
            yield response.follow(next_page, self.parse)  # Follow the next page and continue parsing
scrapy crawl example
[
  {"text": "“The world as we have created it is a process of our thinking. It cannot be changed without changing our thinking.”", "author": "Albert Einstein", "tags": ["change", "deep-thoughts", "thinking", "world"]},
  {"text": "“It is our choices that show what we truly are, far more than our abilities.”", "author": "J.K. Rowling", "tags": ["abilities", "choices"]},
  ...
]
